{
 "cells": [
  {
   "cell_type": "code",
   "execution_count": 1,
   "metadata": {},
   "outputs": [],
   "source": [
    "import pandas as pd\n",
    "import numpy as np\n",
    "import matplotlib.pyplot as plt"
   ]
  },
  {
   "cell_type": "code",
   "execution_count": 2,
   "metadata": {},
   "outputs": [
    {
     "name": "stdout",
     "output_type": "stream",
     "text": [
      "(28000, 784)\n"
     ]
    }
   ],
   "source": [
    "#reading the data in\n",
    "test = pd.read_csv('/home/kilian/Desktop/Projects/test.csv')\n",
    "train = pd.read_csv('/home/kilian/Desktop/Projects/train.csv')\n",
    "print(test.shape)"
   ]
  },
  {
   "cell_type": "code",
   "execution_count": 3,
   "metadata": {},
   "outputs": [
    {
     "name": "stdout",
     "output_type": "stream",
     "text": [
      "the shape of train_x is:  (42000, 784) the shape of test_x is:  (28000, 784) \n",
      "the shape of train_y is:  (42000,) \n",
      "\n",
      "the shape of train_X is:  (42000, 28, 28, 1) the shape of test_X is:  \n",
      "the shape of test_Y is: (42000, 10)\n"
     ]
    }
   ],
   "source": [
    "from keras.utils import to_categorical\n",
    "#splitting training set into labels and images\n",
    "train_x, test_x = train.iloc[:,1:].values , test.iloc[:,:].values\n",
    "train_y = train['label']\n",
    "print(\"the shape of train_x is: \" , train_x.shape, \"the shape of test_x is: \", test_x.shape \n",
    "      , \"\\nthe shape of train_y is: \", train_y.shape,\"\\n\")\n",
    "#preprocess\n",
    "train_X, test_X = train_x.reshape(42000,28,28,1) , test_x.reshape(28000,28,28,1)\n",
    "train_Y  = to_categorical(train_y) #'one-hot-encode' the target\n",
    "print(\"the shape of train_X is: \" , train_X.shape, \"the shape of test_X is: \"\n",
    "      , \"\\nthe shape of test_Y is:\", train_Y.shape)\n",
    "\n"
   ]
  },
  {
   "cell_type": "code",
   "execution_count": 4,
   "metadata": {},
   "outputs": [],
   "source": [
    "from sklearn.model_selection import train_test_split\n",
    "#split the data into train and validation set\n",
    "X_train, X_test, y_train, y_test = train_test_split(train_X, train_Y , test_size=0.20, random_state=42)"
   ]
  },
  {
   "cell_type": "code",
   "execution_count": 29,
   "metadata": {},
   "outputs": [
    {
     "name": "stdout",
     "output_type": "stream",
     "text": [
      "Epoch 1/10\n",
      "1050/1050 [==============================] - 19s 18ms/step - loss: 0.3878 - accuracy: 0.9355 - val_loss: 0.1342 - val_accuracy: 0.9586\n",
      "Epoch 2/10\n",
      "1050/1050 [==============================] - 19s 18ms/step - loss: 0.0802 - accuracy: 0.9755 - val_loss: 0.1197 - val_accuracy: 0.9606\n",
      "Epoch 3/10\n",
      "1050/1050 [==============================] - 18s 17ms/step - loss: 0.0486 - accuracy: 0.9842 - val_loss: 0.1320 - val_accuracy: 0.9694\n",
      "Epoch 4/10\n",
      "1050/1050 [==============================] - 18s 18ms/step - loss: 0.0392 - accuracy: 0.9873 - val_loss: 0.1208 - val_accuracy: 0.9718\n",
      "Epoch 5/10\n",
      "1050/1050 [==============================] - 18s 17ms/step - loss: 0.0357 - accuracy: 0.9888 - val_loss: 0.1202 - val_accuracy: 0.9751\n",
      "Epoch 6/10\n",
      "1050/1050 [==============================] - 18s 17ms/step - loss: 0.0269 - accuracy: 0.9917 - val_loss: 0.1765 - val_accuracy: 0.9738\n",
      "Epoch 7/10\n",
      "1050/1050 [==============================] - 18s 18ms/step - loss: 0.0229 - accuracy: 0.9926 - val_loss: 0.1526 - val_accuracy: 0.9751\n",
      "Epoch 8/10\n",
      "1050/1050 [==============================] - 18s 17ms/step - loss: 0.0229 - accuracy: 0.9932 - val_loss: 0.1551 - val_accuracy: 0.9763\n",
      "Epoch 9/10\n",
      "1050/1050 [==============================] - 19s 18ms/step - loss: 0.0171 - accuracy: 0.9949 - val_loss: 0.2232 - val_accuracy: 0.9704\n",
      "Epoch 10/10\n",
      "1050/1050 [==============================] - 19s 18ms/step - loss: 0.0203 - accuracy: 0.9942 - val_loss: 0.1741 - val_accuracy: 0.9776\n"
     ]
    },
    {
     "data": {
      "text/plain": [
       "<tensorflow.python.keras.callbacks.History at 0x7f85a87eccd0>"
      ]
     },
     "execution_count": 29,
     "metadata": {},
     "output_type": "execute_result"
    }
   ],
   "source": [
    "from keras.models import Sequential\n",
    "from keras.layers import Dense, Conv2D, Flatten\n",
    "\n",
    "#create model\n",
    "model = Sequential()\n",
    "\n",
    "#add model layers\n",
    "model.add(Conv2D(64, kernel_size=3, activation='relu', input_shape=(28,28,1)))\n",
    "model.add(Conv2D(32, kernel_size=3, activation='relu'))\n",
    "model.add(Flatten())\n",
    "model.add(Dense(10, activation='softmax'))\n",
    "\n",
    "#compile model using accuracy to measure model performance\n",
    "model.compile(optimizer='adam', loss='categorical_crossentropy', metrics=['accuracy'])\n",
    "\n",
    "#train the model\n",
    "model.fit(X_train, y_train, validation_data=(X_test, y_test), epochs=10)"
   ]
  },
  {
   "cell_type": "code",
   "execution_count": 28,
   "metadata": {},
   "outputs": [
    {
     "name": "stdout",
     "output_type": "stream",
     "text": [
      "[[8.0900602e-09 1.7277723e-07 5.8054220e-06 6.5065836e-10 3.2704100e-11\n",
      "  3.8742323e-10 5.9790956e-10 1.7162017e-14 9.9999392e-01 1.0141215e-07]\n",
      " [7.1336300e-16 9.9999988e-01 6.4405816e-12 6.3426526e-16 1.0005305e-07\n",
      "  6.5452483e-13 1.6182960e-13 1.3088924e-13 2.7055160e-11 3.5265530e-18]\n",
      " [9.1641655e-10 2.6208344e-10 2.4277793e-11 8.5693784e-05 5.7206064e-05\n",
      "  4.9933265e-06 8.9215866e-14 1.4509640e-04 1.2503856e-08 9.9970692e-01]\n",
      " [1.0615492e-11 7.3148455e-17 8.3054792e-11 1.0041188e-05 2.8701661e-05\n",
      "  2.8676965e-08 2.3049740e-13 3.8610894e-02 1.8928965e-07 9.6135008e-01]]\n"
     ]
    },
    {
     "data": {
      "image/png": "[encoded data removed]",
      "text/plain": [
       "<Figure size 432x288 with 4 Axes>"
      ]
     },
     "metadata": {
      "needs_background": "light"
     },
     "output_type": "display_data"
    }
   ],
   "source": [
    "#predict first 4 images in the test set\n",
    "print(model.predict(X_test[:4]))\n",
    "\n",
    "#actual results for first 4 images in test set\n",
    "y_test[:4]\n",
    "\n",
    "#visualize the first 4 images\n",
    "# show images\n",
    "X_test_r = X_test.reshape(8400,28,28)\n",
    "plt.subplot(2, 2, 1)\n",
    "plt.imshow(X_test_r[0], cmap='gray')\n",
    "plt.title('')\n",
    "plt.subplot(2, 2, 2)\n",
    "plt.imshow(X_test_r[1], cmap='gray')\n",
    "plt.title('')\n",
    "plt.subplot(2, 2, 3)\n",
    "plt.imshow(X_test_r[2], cmap='gray')\n",
    "plt.title('')\n",
    "plt.subplot(2, 2, 4)\n",
    "plt.imshow(X_test_r[3], cmap='gray')\n",
    "plt.title('')\n",
    "plt.show()\n"
   ]
  },
  {
   "cell_type": "code",
   "execution_count": 30,
   "metadata": {},
   "outputs": [
    {
     "name": "stdout",
     "output_type": "stream",
     "text": [
      "Epoch 1/3\n",
      "1050/1050 [==============================] - 37s 36ms/step - loss: 0.2239 - accuracy: 0.9438 - val_loss: 0.0898 - val_accuracy: 0.9727\n",
      "Epoch 2/3\n",
      "1050/1050 [==============================] - 37s 35ms/step - loss: 0.0642 - accuracy: 0.9804 - val_loss: 0.0771 - val_accuracy: 0.9770\n",
      "Epoch 3/3\n",
      "1050/1050 [==============================] - 37s 36ms/step - loss: 0.0418 - accuracy: 0.9869 - val_loss: 0.0959 - val_accuracy: 0.9749\n"
     ]
    },
    {
     "data": {
      "text/plain": [
       "<tensorflow.python.keras.callbacks.History at 0x7f865155c610>"
      ]
     },
     "execution_count": 30,
     "metadata": {},
     "output_type": "execute_result"
    }
   ],
   "source": [
    "from keras.models import Sequential\n",
    "from keras.layers import Dense, Conv2D, Flatten\n",
    "\n",
    "#create model\n",
    "model = Sequential()\n",
    "\n",
    "#add model layers\n",
    "model.add(Conv2D(64, kernel_size=3, activation='relu', input_shape=(28,28,1)))\n",
    "model.add(Conv2D(64, kernel_size=3, activation='relu'))\n",
    "model.add(Conv2D(32, kernel_size=3, activation='relu'))\n",
    "model.add(Flatten())\n",
    "model.add(Dense(10, activation='softmax'))\n",
    "\n",
    "#compile model using accuracy to measure model performance\n",
    "model.compile(optimizer='adam', loss='categorical_crossentropy', metrics=['accuracy'])\n",
    "\n",
    "#train the model\n",
    "model.fit(X_train, y_train, validation_data=(X_test, y_test), epochs=10)"
   ]
  },
  {
   "cell_type": "code",
   "execution_count": 9,
   "metadata": {},
   "outputs": [
    {
     "name": "stdout",
     "output_type": "stream",
     "text": [
      "Epoch 1/10\n",
      "1050/1050 [==============================] - 49s 47ms/step - loss: 0.1835 - categorical_accuracy: 0.9503 - accuracy: 0.9503 - val_loss: 0.0760 - val_categorical_accuracy: 0.9770 - val_accuracy: 0.9770\n",
      "Epoch 2/10\n",
      "1050/1050 [==============================] - 49s 47ms/step - loss: 0.0638 - categorical_accuracy: 0.9806 - accuracy: 0.9806 - val_loss: 0.0802 - val_categorical_accuracy: 0.9769 - val_accuracy: 0.9769\n",
      "Epoch 3/10\n",
      "1050/1050 [==============================] - 50s 47ms/step - loss: 0.0486 - categorical_accuracy: 0.9841 - accuracy: 0.9841 - val_loss: 0.0928 - val_categorical_accuracy: 0.9724 - val_accuracy: 0.9724\n",
      "Epoch 4/10\n",
      "1050/1050 [==============================] - 50s 48ms/step - loss: 0.0363 - categorical_accuracy: 0.9884 - accuracy: 0.9884 - val_loss: 0.0693 - val_categorical_accuracy: 0.9808 - val_accuracy: 0.9808\n",
      "Epoch 5/10\n",
      "1050/1050 [==============================] - 49s 47ms/step - loss: 0.0315 - categorical_accuracy: 0.9896 - accuracy: 0.9896 - val_loss: 0.0906 - val_categorical_accuracy: 0.9783 - val_accuracy: 0.9783\n",
      "Epoch 6/10\n",
      "1050/1050 [==============================] - 50s 47ms/step - loss: 0.0255 - categorical_accuracy: 0.9914 - accuracy: 0.9914 - val_loss: 0.0912 - val_categorical_accuracy: 0.9795 - val_accuracy: 0.9795\n",
      "Epoch 7/10\n",
      "1050/1050 [==============================] - 50s 48ms/step - loss: 0.0234 - categorical_accuracy: 0.9923 - accuracy: 0.9923 - val_loss: 0.0895 - val_categorical_accuracy: 0.9795 - val_accuracy: 0.9795\n",
      "Epoch 8/10\n",
      "1050/1050 [==============================] - 50s 47ms/step - loss: 0.0212 - categorical_accuracy: 0.9939 - accuracy: 0.9939 - val_loss: 0.1043 - val_categorical_accuracy: 0.9782 - val_accuracy: 0.9782\n",
      "Epoch 9/10\n",
      "1050/1050 [==============================] - 50s 48ms/step - loss: 0.0177 - categorical_accuracy: 0.9943 - accuracy: 0.9943 - val_loss: 0.1171 - val_categorical_accuracy: 0.9749 - val_accuracy: 0.9749\n",
      "Epoch 10/10\n",
      "1050/1050 [==============================] - 50s 48ms/step - loss: 0.0203 - categorical_accuracy: 0.9940 - accuracy: 0.9940 - val_loss: 0.1287 - val_categorical_accuracy: 0.9736 - val_accuracy: 0.9736\n"
     ]
    },
    {
     "data": {
      "text/plain": [
       "<tensorflow.python.keras.callbacks.History at 0x7f59ec479310>"
      ]
     },
     "execution_count": 9,
     "metadata": {},
     "output_type": "execute_result"
    }
   ],
   "source": [
    "from keras.models import Sequential\n",
    "from keras.layers import Dense, Conv2D, Flatten\n",
    "\n",
    "#create model\n",
    "model = Sequential()\n",
    "\n",
    "#add model layers\n",
    "model.add(Conv2D(64, kernel_size=3, activation='relu', input_shape=(28,28,1)))\n",
    "model.add(Conv2D(64, kernel_size=3, activation='relu'))\n",
    "model.add(Conv2D(64, kernel_size=3, activation='relu'))\n",
    "model.add(Conv2D(32, kernel_size=3, activation='relu'))\n",
    "model.add(Flatten())\n",
    "model.add(Dense(10, activation='softmax'))\n",
    "\n",
    "#compile model using accuracy to measure model performance\n",
    "model.compile(optimizer='adam', loss='categorical_crossentropy', metrics='CategoricalAccuracy')\n",
    "\n",
    "#train the model\n",
    "model.fit(X_train, y_train, validation_data=(X_test, y_test), epochs=10)"
   ]
  },
  {
   "cell_type": "code",
   "execution_count": null,
   "metadata": {},
   "outputs": [],
   "source": []
  }
 ],
 "metadata": {
  "kernelspec": {
   "display_name": "Python 3",
   "language": "python",
   "name": "python3"
  },
  "language_info": {
   "codemirror_mode": {
    "name": "ipython",
    "version": 3
   },
   "file_extension": ".py",
   "mimetype": "text/x-python",
   "name": "python",
   "nbconvert_exporter": "python",
   "pygments_lexer": "ipython3",
   "version": "3.7.6"
  }
 },
 "nbformat": 4,
 "nbformat_minor": 4
}
